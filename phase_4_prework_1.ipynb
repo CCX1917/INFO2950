{
 "cells": [
  {
   "cell_type": "code",
   "execution_count": 99,
   "metadata": {},
   "outputs": [],
   "source": [
    "#Load Libraries\n",
    "import pandas as pd\n",
    "import numpy as np\n",
    "import matplotlib.pyplot as plt\n",
    "import seaborn as sns\n",
    "from sklearn.linear_model import LinearRegression\n",
    "from sklearn.linear_model import LogisticRegression\n",
    "from sklearn.model_selection import train_test_split\n",
    "\n",
    "#Load CSV Files\n",
    "team_data = pd.read_csv('team_data.csv')\n",
    "salaries = pd.read_csv('salaries.csv')\n",
    "\n",
    "team_data = team_data.loc[(team_data['yearID'] >= 1985) & (team_data['yearID'] <= 2016)]\n",
    "team_data = team_data[['yearID', 'teamID', 'Rank', 'G', 'W', 'L', 'DivWin', 'WCWin', 'LgWin', 'WSWin', 'R', 'AB', 'H', 'HR', 'RA', 'ERA', 'ER', 'FP', 'HA', 'BBA', 'E']]\n",
    "\n",
    "salaries = salaries[['yearID', 'teamID', 'salary']]\n",
    "total_salaries = salaries.groupby(['yearID', 'teamID']).sum()\n",
    "\n",
    "total_salaries.reset_index(drop=True, inplace=True)\n",
    "team_data.reset_index(drop=True, inplace=True)\n",
    "total_salaries_series = total_salaries['salary']\n",
    "team_data['TSalary'] = total_salaries_series\n",
    "team_data['WPct'] = round(team_data['W'] / team_data['G'], 4)\n",
    "\n",
    "salaries2 = team_data[['yearID', 'TSalary']]\n",
    "season_mean = salaries2.groupby(['yearID']).mean()\n",
    "season_std = salaries2.groupby(['yearID']).std()\n",
    "season_mean = season_mean.reset_index()\n",
    "season_std = season_std.reset_index()\n",
    "series_mean = []\n",
    "series_std = []\n",
    "for index in range(len(team_data)):\n",
    "    year = team_data['yearID'][index]\n",
    "    mean = season_mean['TSalary'][year-1985]\n",
    "    series_mean.append(mean)\n",
    "for index in range(len(team_data)):\n",
    "    year = team_data['yearID'][index]\n",
    "    mean = season_std['TSalary'][year-1985]\n",
    "    series_std.append(mean)\n",
    "\n",
    "team_data['SalaryMean'] = series_mean\n",
    "team_data['SalaryStDev'] = series_std\n",
    "team_data['Z-Score'] = round((team_data['TSalary'] - team_data['SalaryMean'])/(team_data['SalaryStDev']), 4)"
   ]
  },
  {
   "cell_type": "code",
   "execution_count": 152,
   "metadata": {},
   "outputs": [],
   "source": [
    "team_data['DivWin'] = pd.get_dummies(team_data['DivWin'])['Y']"
   ]
  },
  {
   "cell_type": "code",
   "execution_count": 153,
   "metadata": {},
   "outputs": [],
   "source": [
    "team_data['LgWin'] = pd.get_dummies(team_data['LgWin'])['Y']"
   ]
  },
  {
   "cell_type": "code",
   "execution_count": 154,
   "metadata": {},
   "outputs": [],
   "source": [
    "team_data['WSWin'] = pd.get_dummies(team_data['WSWin'])['Y']"
   ]
  },
  {
   "cell_type": "code",
   "execution_count": 155,
   "metadata": {},
   "outputs": [
    {
     "data": {
      "text/html": [
       "<div>\n",
       "<style scoped>\n",
       "    .dataframe tbody tr th:only-of-type {\n",
       "        vertical-align: middle;\n",
       "    }\n",
       "\n",
       "    .dataframe tbody tr th {\n",
       "        vertical-align: top;\n",
       "    }\n",
       "\n",
       "    .dataframe thead th {\n",
       "        text-align: right;\n",
       "    }\n",
       "</style>\n",
       "<table border=\"1\" class=\"dataframe\">\n",
       "  <thead>\n",
       "    <tr style=\"text-align: right;\">\n",
       "      <th></th>\n",
       "      <th>yearID</th>\n",
       "      <th>teamID</th>\n",
       "      <th>Rank</th>\n",
       "      <th>G</th>\n",
       "      <th>W</th>\n",
       "      <th>L</th>\n",
       "      <th>DivWin</th>\n",
       "      <th>WCWin</th>\n",
       "      <th>LgWin</th>\n",
       "      <th>WSWin</th>\n",
       "      <th>...</th>\n",
       "      <th>FP</th>\n",
       "      <th>HA</th>\n",
       "      <th>BBA</th>\n",
       "      <th>E</th>\n",
       "      <th>TSalary</th>\n",
       "      <th>WPct</th>\n",
       "      <th>SalaryMean</th>\n",
       "      <th>SalaryStDev</th>\n",
       "      <th>Z-Score</th>\n",
       "      <th>RPG</th>\n",
       "    </tr>\n",
       "  </thead>\n",
       "  <tbody>\n",
       "    <tr>\n",
       "      <th>0</th>\n",
       "      <td>1985</td>\n",
       "      <td>ATL</td>\n",
       "      <td>5</td>\n",
       "      <td>162</td>\n",
       "      <td>66</td>\n",
       "      <td>96</td>\n",
       "      <td>0</td>\n",
       "      <td>NaN</td>\n",
       "      <td>0</td>\n",
       "      <td>0</td>\n",
       "      <td>...</td>\n",
       "      <td>0.976</td>\n",
       "      <td>1512</td>\n",
       "      <td>642</td>\n",
       "      <td>159</td>\n",
       "      <td>14807000</td>\n",
       "      <td>0.4074</td>\n",
       "      <td>1.007557e+07</td>\n",
       "      <td>2.470845e+06</td>\n",
       "      <td>1.9149</td>\n",
       "      <td>3.901235</td>\n",
       "    </tr>\n",
       "    <tr>\n",
       "      <th>1</th>\n",
       "      <td>1985</td>\n",
       "      <td>BAL</td>\n",
       "      <td>4</td>\n",
       "      <td>161</td>\n",
       "      <td>83</td>\n",
       "      <td>78</td>\n",
       "      <td>0</td>\n",
       "      <td>NaN</td>\n",
       "      <td>0</td>\n",
       "      <td>0</td>\n",
       "      <td>...</td>\n",
       "      <td>0.979</td>\n",
       "      <td>1480</td>\n",
       "      <td>568</td>\n",
       "      <td>129</td>\n",
       "      <td>11560712</td>\n",
       "      <td>0.5155</td>\n",
       "      <td>1.007557e+07</td>\n",
       "      <td>2.470845e+06</td>\n",
       "      <td>0.6011</td>\n",
       "      <td>5.080745</td>\n",
       "    </tr>\n",
       "    <tr>\n",
       "      <th>2</th>\n",
       "      <td>1985</td>\n",
       "      <td>BOS</td>\n",
       "      <td>5</td>\n",
       "      <td>163</td>\n",
       "      <td>81</td>\n",
       "      <td>81</td>\n",
       "      <td>0</td>\n",
       "      <td>NaN</td>\n",
       "      <td>0</td>\n",
       "      <td>0</td>\n",
       "      <td>...</td>\n",
       "      <td>0.977</td>\n",
       "      <td>1487</td>\n",
       "      <td>540</td>\n",
       "      <td>145</td>\n",
       "      <td>10897560</td>\n",
       "      <td>0.4969</td>\n",
       "      <td>1.007557e+07</td>\n",
       "      <td>2.470845e+06</td>\n",
       "      <td>0.3327</td>\n",
       "      <td>4.907975</td>\n",
       "    </tr>\n",
       "    <tr>\n",
       "      <th>3</th>\n",
       "      <td>1985</td>\n",
       "      <td>CAL</td>\n",
       "      <td>2</td>\n",
       "      <td>162</td>\n",
       "      <td>90</td>\n",
       "      <td>72</td>\n",
       "      <td>0</td>\n",
       "      <td>NaN</td>\n",
       "      <td>0</td>\n",
       "      <td>0</td>\n",
       "      <td>...</td>\n",
       "      <td>0.982</td>\n",
       "      <td>1453</td>\n",
       "      <td>514</td>\n",
       "      <td>112</td>\n",
       "      <td>14427894</td>\n",
       "      <td>0.5556</td>\n",
       "      <td>1.007557e+07</td>\n",
       "      <td>2.470845e+06</td>\n",
       "      <td>1.7615</td>\n",
       "      <td>4.518519</td>\n",
       "    </tr>\n",
       "    <tr>\n",
       "      <th>4</th>\n",
       "      <td>1985</td>\n",
       "      <td>CHA</td>\n",
       "      <td>3</td>\n",
       "      <td>163</td>\n",
       "      <td>85</td>\n",
       "      <td>77</td>\n",
       "      <td>0</td>\n",
       "      <td>NaN</td>\n",
       "      <td>0</td>\n",
       "      <td>0</td>\n",
       "      <td>...</td>\n",
       "      <td>0.982</td>\n",
       "      <td>1411</td>\n",
       "      <td>569</td>\n",
       "      <td>111</td>\n",
       "      <td>9846178</td>\n",
       "      <td>0.5215</td>\n",
       "      <td>1.007557e+07</td>\n",
       "      <td>2.470845e+06</td>\n",
       "      <td>-0.0928</td>\n",
       "      <td>4.515337</td>\n",
       "    </tr>\n",
       "  </tbody>\n",
       "</table>\n",
       "<p>5 rows × 27 columns</p>\n",
       "</div>"
      ],
      "text/plain": [
       "   yearID teamID  Rank    G   W   L  DivWin WCWin  LgWin  WSWin  ...     FP  \\\n",
       "0    1985    ATL     5  162  66  96       0   NaN      0      0  ...  0.976   \n",
       "1    1985    BAL     4  161  83  78       0   NaN      0      0  ...  0.979   \n",
       "2    1985    BOS     5  163  81  81       0   NaN      0      0  ...  0.977   \n",
       "3    1985    CAL     2  162  90  72       0   NaN      0      0  ...  0.982   \n",
       "4    1985    CHA     3  163  85  77       0   NaN      0      0  ...  0.982   \n",
       "\n",
       "     HA  BBA    E   TSalary    WPct    SalaryMean   SalaryStDev  Z-Score  \\\n",
       "0  1512  642  159  14807000  0.4074  1.007557e+07  2.470845e+06   1.9149   \n",
       "1  1480  568  129  11560712  0.5155  1.007557e+07  2.470845e+06   0.6011   \n",
       "2  1487  540  145  10897560  0.4969  1.007557e+07  2.470845e+06   0.3327   \n",
       "3  1453  514  112  14427894  0.5556  1.007557e+07  2.470845e+06   1.7615   \n",
       "4  1411  569  111   9846178  0.5215  1.007557e+07  2.470845e+06  -0.0928   \n",
       "\n",
       "        RPG  \n",
       "0  3.901235  \n",
       "1  5.080745  \n",
       "2  4.907975  \n",
       "3  4.518519  \n",
       "4  4.515337  \n",
       "\n",
       "[5 rows x 27 columns]"
      ]
     },
     "execution_count": 155,
     "metadata": {},
     "output_type": "execute_result"
    }
   ],
   "source": [
    "team_data.head()"
   ]
  },
  {
   "cell_type": "code",
   "execution_count": 3,
   "metadata": {},
   "outputs": [],
   "source": [
    "linear_model = LinearRegression()"
   ]
  },
  {
   "cell_type": "code",
   "execution_count": 4,
   "metadata": {},
   "outputs": [
    {
     "data": {
      "text/plain": [
       "array([ 0.11262608, -0.0924196 ])"
      ]
     },
     "execution_count": 4,
     "metadata": {},
     "output_type": "execute_result"
    }
   ],
   "source": [
    "linear_model.fit(team_data[['R', 'RA']], team_data['W'])\n",
    "slope = linear_model.coef_\n",
    "slope"
   ]
  },
  {
   "cell_type": "code",
   "execution_count": 5,
   "metadata": {},
   "outputs": [
    {
     "data": {
      "text/plain": [
       "0.7698955054429655"
      ]
     },
     "execution_count": 5,
     "metadata": {},
     "output_type": "execute_result"
    }
   ],
   "source": [
    "linear_model.score(team_data[['R', 'RA']], team_data['W'])"
   ]
  },
  {
   "cell_type": "code",
   "execution_count": 6,
   "metadata": {},
   "outputs": [],
   "source": [
    "div_model = LogisticRegression()"
   ]
  },
  {
   "cell_type": "code",
   "execution_count": 11,
   "metadata": {},
   "outputs": [
    {
     "data": {
      "text/plain": [
       "array([[ 0.02258885, -0.02639683]])"
      ]
     },
     "execution_count": 11,
     "metadata": {},
     "output_type": "execute_result"
    }
   ],
   "source": [
    "div_model.fit(team_data[['R', 'RA']], team_data['DivWin'])\n",
    "slope = div_model.coef_\n",
    "slope"
   ]
  },
  {
   "cell_type": "code",
   "execution_count": 13,
   "metadata": {},
   "outputs": [
    {
     "data": {
      "text/plain": [
       "0.8529411764705882"
      ]
     },
     "execution_count": 13,
     "metadata": {},
     "output_type": "execute_result"
    }
   ],
   "source": [
    "div_model.score(team_data[['R', 'RA']], team_data['DivWin'])"
   ]
  },
  {
   "cell_type": "code",
   "execution_count": 14,
   "metadata": {},
   "outputs": [],
   "source": [
    "lg_model = LogisticRegression()"
   ]
  },
  {
   "cell_type": "code",
   "execution_count": 18,
   "metadata": {},
   "outputs": [
    {
     "data": {
      "text/plain": [
       "array([[ 0.01463289, -0.0197152 ]])"
      ]
     },
     "execution_count": 18,
     "metadata": {},
     "output_type": "execute_result"
    }
   ],
   "source": [
    "lg_model.fit(team_data[['R', 'RA']], team_data['LgWin'])\n",
    "slope = lg_model.coef_\n",
    "slope"
   ]
  },
  {
   "cell_type": "code",
   "execution_count": 20,
   "metadata": {},
   "outputs": [
    {
     "data": {
      "text/plain": [
       "0.9291938997821351"
      ]
     },
     "execution_count": 20,
     "metadata": {},
     "output_type": "execute_result"
    }
   ],
   "source": [
    "lg_model.score(team_data[['R', 'RA']], team_data['LgWin'])"
   ]
  },
  {
   "cell_type": "code",
   "execution_count": 21,
   "metadata": {},
   "outputs": [],
   "source": [
    "ws_model = LogisticRegression()"
   ]
  },
  {
   "cell_type": "code",
   "execution_count": 22,
   "metadata": {},
   "outputs": [
    {
     "data": {
      "text/plain": [
       "array([[ 0.01191728, -0.01782079]])"
      ]
     },
     "execution_count": 22,
     "metadata": {},
     "output_type": "execute_result"
    }
   ],
   "source": [
    "ws_model.fit(team_data[['R', 'RA']], team_data['WSWin'])\n",
    "slope = ws_model.coef_\n",
    "slope"
   ]
  },
  {
   "cell_type": "code",
   "execution_count": 23,
   "metadata": {},
   "outputs": [
    {
     "data": {
      "text/plain": [
       "0.9662309368191722"
      ]
     },
     "execution_count": 23,
     "metadata": {},
     "output_type": "execute_result"
    }
   ],
   "source": [
    "ws_model.score(team_data[['R', 'RA']], team_data['WSWin'])"
   ]
  },
  {
   "cell_type": "code",
   "execution_count": 26,
   "metadata": {},
   "outputs": [
    {
     "data": {
      "text/plain": [
       "array([[0.85774536, 0.14225464]])"
      ]
     },
     "execution_count": 26,
     "metadata": {},
     "output_type": "execute_result"
    }
   ],
   "source": [
    "ws_model.predict_proba([[896, 700]])"
   ]
  },
  {
   "cell_type": "code",
   "execution_count": 27,
   "metadata": {},
   "outputs": [
    {
     "data": {
      "text/plain": [
       "array([[0.97581781, 0.02418219]])"
      ]
     },
     "execution_count": 27,
     "metadata": {},
     "output_type": "execute_result"
    }
   ],
   "source": [
    "ws_model.predict_proba([[732, 697]])"
   ]
  },
  {
   "cell_type": "code",
   "execution_count": 29,
   "metadata": {},
   "outputs": [],
   "source": [
    "X_train, X_test, win_train, win_test = train_test_split(team_data[['R', 'RA']], team_data['W'], test_size=.25, random_state=15)"
   ]
  },
  {
   "cell_type": "code",
   "execution_count": 58,
   "metadata": {},
   "outputs": [
    {
     "data": {
      "text/plain": [
       "LinearRegression()"
      ]
     },
     "execution_count": 58,
     "metadata": {},
     "output_type": "execute_result"
    }
   ],
   "source": [
    "linear_model_2 = LinearRegression()\n",
    "linear_model_2.fit(X_train, win_train)"
   ]
  },
  {
   "cell_type": "code",
   "execution_count": 59,
   "metadata": {},
   "outputs": [
    {
     "name": "stdout",
     "output_type": "stream",
     "text": [
      "The accuracy of the model in the test set is: 13.478260869565217%\n"
     ]
    }
   ],
   "source": [
    "predict_1 = linear_model_2.predict(X_test)\n",
    "for index in range(len(predict_1)):\n",
    "    predict_1[index] = round(predict_1[index], 0)\n",
    "accuracy = predict_1 == win_test\n",
    "percent_correct = len(accuracy.loc[accuracy == True]) / len(accuracy) * 100\n",
    "print(\"The accuracy of the model in the test set is: {}%\".format(percent_correct))"
   ]
  },
  {
   "cell_type": "code",
   "execution_count": 61,
   "metadata": {},
   "outputs": [
    {
     "name": "stdout",
     "output_type": "stream",
     "text": [
      "The accuracy of the model in the training set is: 8.430232558139535%\n"
     ]
    }
   ],
   "source": [
    "predict_2 = linear_model_2.predict(X_train)\n",
    "for index in range(len(predict_2)):\n",
    "    predict_2[index] = round(predict_2[index], 0)\n",
    "accuracy_2 = predict_2 == win_train\n",
    "percent_correct_2 = len(accuracy_2.loc[accuracy_2 == True]) / len(accuracy_2) * 100\n",
    "print(\"The accuracy of the model in the training set is: {}%\".format(percent_correct_2))"
   ]
  },
  {
   "cell_type": "code",
   "execution_count": 62,
   "metadata": {},
   "outputs": [
    {
     "data": {
      "text/plain": [
       "0.21739130434782608"
      ]
     },
     "execution_count": 62,
     "metadata": {},
     "output_type": "execute_result"
    }
   ],
   "source": [
    "difference_1 = predict_1 - win_test\n",
    "difference_1.mean()"
   ]
  },
  {
   "cell_type": "code",
   "execution_count": 63,
   "metadata": {},
   "outputs": [
    {
     "data": {
      "text/plain": [
       "5.68577879460977"
      ]
     },
     "execution_count": 63,
     "metadata": {},
     "output_type": "execute_result"
    }
   ],
   "source": [
    "difference_1.std()"
   ]
  },
  {
   "cell_type": "code",
   "execution_count": 64,
   "metadata": {},
   "outputs": [
    {
     "data": {
      "text/plain": [
       "4.017391304347826"
      ]
     },
     "execution_count": 64,
     "metadata": {},
     "output_type": "execute_result"
    }
   ],
   "source": [
    "difference_12 = abs(predict_1 - win_test)\n",
    "difference_12.mean()"
   ]
  },
  {
   "cell_type": "code",
   "execution_count": 65,
   "metadata": {},
   "outputs": [
    {
     "data": {
      "text/plain": [
       "4.020651077423526"
      ]
     },
     "execution_count": 65,
     "metadata": {},
     "output_type": "execute_result"
    }
   ],
   "source": [
    "difference_12.std()"
   ]
  },
  {
   "cell_type": "code",
   "execution_count": 66,
   "metadata": {},
   "outputs": [
    {
     "data": {
      "text/plain": [
       "0.011627906976744186"
      ]
     },
     "execution_count": 66,
     "metadata": {},
     "output_type": "execute_result"
    }
   ],
   "source": [
    "difference_2 = predict_2 - win_train\n",
    "difference_2.mean()"
   ]
  },
  {
   "cell_type": "code",
   "execution_count": 67,
   "metadata": {},
   "outputs": [
    {
     "data": {
      "text/plain": [
       "5.708073775385734"
      ]
     },
     "execution_count": 67,
     "metadata": {},
     "output_type": "execute_result"
    }
   ],
   "source": [
    "difference_2.std()"
   ]
  },
  {
   "cell_type": "code",
   "execution_count": 68,
   "metadata": {},
   "outputs": [
    {
     "data": {
      "text/plain": [
       "4.136627906976744"
      ]
     },
     "execution_count": 68,
     "metadata": {},
     "output_type": "execute_result"
    }
   ],
   "source": [
    "difference_22 = abs(predict_2 - win_train)\n",
    "difference_22.mean()"
   ]
  },
  {
   "cell_type": "code",
   "execution_count": 69,
   "metadata": {},
   "outputs": [
    {
     "data": {
      "text/plain": [
       "3.9300945717819786"
      ]
     },
     "execution_count": 69,
     "metadata": {},
     "output_type": "execute_result"
    }
   ],
   "source": [
    "difference_22.std()"
   ]
  },
  {
   "cell_type": "code",
   "execution_count": 70,
   "metadata": {},
   "outputs": [],
   "source": [
    "X_train, X_test, div_train, div_test = train_test_split(team_data[['R', 'RA']], team_data['DivWin'], test_size=.25, random_state=15)"
   ]
  },
  {
   "cell_type": "code",
   "execution_count": 71,
   "metadata": {},
   "outputs": [
    {
     "name": "stdout",
     "output_type": "stream",
     "text": [
      "The accuracy of the model in the test set is: 90.8695652173913%\n"
     ]
    }
   ],
   "source": [
    "div_model_2 = LogisticRegression().fit(X_train, div_train)\n",
    "predict_3 = div_model_2.predict(X_test)\n",
    "accuracy = predict_3 == div_test\n",
    "percent_correct = len(accuracy.loc[accuracy == True]) / len(accuracy) * 100\n",
    "print(\"The accuracy of the model in the test set is: {}%\".format(percent_correct))"
   ]
  },
  {
   "cell_type": "code",
   "execution_count": 72,
   "metadata": {},
   "outputs": [
    {
     "name": "stdout",
     "output_type": "stream",
     "text": [
      "The accuracy of the model in the training set is: 83.86627906976744%\n"
     ]
    }
   ],
   "source": [
    "predict_4 = div_model_2.predict(X_train)\n",
    "accuracy = predict_4 == div_train\n",
    "percent_correct = len(accuracy.loc[accuracy == True]) / len(accuracy) * 100\n",
    "print(\"The accuracy of the model in the training set is: {}%\".format(percent_correct))"
   ]
  },
  {
   "cell_type": "code",
   "execution_count": 73,
   "metadata": {},
   "outputs": [],
   "source": [
    "X_train, X_test, lg_train, lg_test = train_test_split(team_data[['R', 'RA']], team_data['LgWin'], test_size=.25, random_state=15)"
   ]
  },
  {
   "cell_type": "code",
   "execution_count": 74,
   "metadata": {},
   "outputs": [
    {
     "name": "stdout",
     "output_type": "stream",
     "text": [
      "The accuracy of the model in the test set is: 83.04347826086956%\n"
     ]
    }
   ],
   "source": [
    "lg_model_2 = LogisticRegression().fit(X_train, lg_train)\n",
    "predict_5 = lg_model_2.predict(X_test)\n",
    "accuracy = predict_5 == div_test\n",
    "percent_correct = len(accuracy.loc[accuracy == True]) / len(accuracy) * 100\n",
    "print(\"The accuracy of the model in the test set is: {}%\".format(percent_correct))"
   ]
  },
  {
   "cell_type": "code",
   "execution_count": 75,
   "metadata": {},
   "outputs": [
    {
     "data": {
      "text/plain": [
       "array([0, 0, 0, 0, 0, 0, 0, 0, 0, 0, 0, 0, 0, 0, 0, 0, 0, 0, 0, 0, 0, 0,\n",
       "       0, 0, 0, 0, 0, 0, 0, 0, 0, 0, 0, 0, 0, 0, 0, 0, 0, 0, 0, 0, 0, 0,\n",
       "       1, 0, 0, 0, 0, 0, 0, 0, 0, 0, 0, 1, 0, 0, 0, 0, 0, 0, 0, 0, 0, 0,\n",
       "       0, 0, 0, 0, 0, 0, 0, 0, 0, 0, 0, 0, 0, 0, 0, 0, 0, 0, 0, 0, 0, 0,\n",
       "       0, 0, 0, 0, 0, 1, 0, 0, 0, 0, 0, 0, 0, 0, 0, 0, 0, 0, 0, 0, 0, 0,\n",
       "       0, 0, 0, 0, 0, 0, 0, 0, 0, 0, 0, 0, 0, 0, 0, 0, 0, 0, 0, 0, 0, 0,\n",
       "       0, 0, 0, 0, 0, 0, 0, 0, 0, 0, 0, 0, 0, 0, 0, 0, 0, 0, 0, 0, 0, 0,\n",
       "       0, 0, 0, 0, 0, 0, 0, 1, 0, 0, 0, 0, 0, 0, 0, 0, 0, 0, 0, 0, 0, 0,\n",
       "       0, 0, 0, 0, 0, 0, 0, 0, 0, 0, 0, 0, 0, 0, 0, 0, 0, 0, 0, 0, 0, 0,\n",
       "       0, 0, 0, 0, 0, 0, 0, 0, 0, 0, 0, 0, 0, 0, 0, 0, 0, 0, 0, 0, 0, 0,\n",
       "       0, 0, 0, 0, 0, 0, 0, 0, 0, 0], dtype=uint8)"
      ]
     },
     "execution_count": 75,
     "metadata": {},
     "output_type": "execute_result"
    }
   ],
   "source": [
    "predict_5"
   ]
  },
  {
   "cell_type": "code",
   "execution_count": 76,
   "metadata": {},
   "outputs": [
    {
     "data": {
      "image/png": "[encoded data removed]",
      "text/plain": [
       "<Figure size 432x288 with 2 Axes>"
      ]
     },
     "metadata": {
      "needs_background": "light"
     },
     "output_type": "display_data"
    }
   ],
   "source": [
    "# confusion matrix\n",
    "from sklearn.metrics import confusion_matrix, plot_confusion_matrix, classification_report\n",
    "\n",
    "# true labels and predicted labels\n",
    "lg_true = team_data['LgWin']\n",
    "lg_pred = lg_model.predict(team_data[['R', 'RA']])\n",
    "\n",
    "plot_confusion_matrix(\n",
    "    lg_model, \n",
    "    team_data[['R', 'RA']], \n",
    "    lg_true, \n",
    ")\n",
    "plt.show()"
   ]
  },
  {
   "cell_type": "code",
   "execution_count": 77,
   "metadata": {},
   "outputs": [
    {
     "name": "stdout",
     "output_type": "stream",
     "text": [
      "              precision    recall  f1-score   support\n",
      "\n",
      "           0       0.94      0.99      0.96       856\n",
      "           1       0.36      0.06      0.11        62\n",
      "\n",
      "    accuracy                           0.93       918\n",
      "   macro avg       0.65      0.53      0.54       918\n",
      "weighted avg       0.90      0.93      0.91       918\n",
      "\n"
     ]
    }
   ],
   "source": [
    "print(classification_report(lg_true, lg_pred))"
   ]
  },
  {
   "cell_type": "code",
   "execution_count": 78,
   "metadata": {},
   "outputs": [
    {
     "data": {
      "image/png": "[encoded data removed]",
      "text/plain": [
       "<Figure size 432x288 with 2 Axes>"
      ]
     },
     "metadata": {
      "needs_background": "light"
     },
     "output_type": "display_data"
    }
   ],
   "source": [
    "div_true = team_data['DivWin']\n",
    "div_pred = div_model.predict(team_data[['R', 'RA']])\n",
    "\n",
    "plot_confusion_matrix(\n",
    "    div_model, \n",
    "    team_data[['R', 'RA']], \n",
    "    div_true, \n",
    ")\n",
    "plt.show()"
   ]
  },
  {
   "cell_type": "code",
   "execution_count": 79,
   "metadata": {},
   "outputs": [
    {
     "name": "stdout",
     "output_type": "stream",
     "text": [
      "              precision    recall  f1-score   support\n",
      "\n",
      "           0       0.89      0.94      0.91       750\n",
      "           1       0.63      0.47      0.54       168\n",
      "\n",
      "    accuracy                           0.85       918\n",
      "   macro avg       0.76      0.70      0.73       918\n",
      "weighted avg       0.84      0.85      0.84       918\n",
      "\n"
     ]
    }
   ],
   "source": [
    "print(classification_report(div_true, div_pred))"
   ]
  },
  {
   "cell_type": "code",
   "execution_count": 81,
   "metadata": {},
   "outputs": [],
   "source": [
    "X_train, X_test, ws_train, ws_test = train_test_split(team_data[['R', 'RA']], team_data['WSWin'], test_size=.25, random_state=15)"
   ]
  },
  {
   "cell_type": "code",
   "execution_count": 82,
   "metadata": {},
   "outputs": [
    {
     "name": "stdout",
     "output_type": "stream",
     "text": [
      "The accuracy of the model in the test set is: 98.69565217391305%\n"
     ]
    }
   ],
   "source": [
    "ws_model_2 = LogisticRegression().fit(X_train, ws_train)\n",
    "predict_6 = ws_model_2.predict(X_test)\n",
    "accuracy = predict_6 == ws_test\n",
    "percent_correct = len(accuracy.loc[accuracy == True]) / len(accuracy) * 100\n",
    "print(\"The accuracy of the model in the test set is: {}%\".format(percent_correct))"
   ]
  },
  {
   "cell_type": "code",
   "execution_count": 83,
   "metadata": {},
   "outputs": [
    {
     "name": "stdout",
     "output_type": "stream",
     "text": [
      "The accuracy of the model in the training set is: 95.93023255813954%\n"
     ]
    }
   ],
   "source": [
    "predict_7 = ws_model_2.predict(X_train)\n",
    "accuracy = predict_7 == ws_train\n",
    "percent_correct = len(accuracy.loc[accuracy == True]) / len(accuracy) * 100\n",
    "print(\"The accuracy of the model in the training set is: {}%\".format(percent_correct))"
   ]
  },
  {
   "cell_type": "code",
   "execution_count": 166,
   "metadata": {},
   "outputs": [
    {
     "data": {
      "image/png": "[encoded data removed]",
      "text/plain": [
       "<Figure size 432x288 with 2 Axes>"
      ]
     },
     "metadata": {
      "needs_background": "light"
     },
     "output_type": "display_data"
    }
   ],
   "source": [
    "ws_true = team_data['WSWin']\n",
    "ws_pred = ws_model.predict(team_data[['R', 'RA']])\n",
    "\n",
    "plot_confusion_matrix(\n",
    "    ws_model, \n",
    "    team_data[['R', 'RA']], \n",
    "    ws_true, \n",
    ")\n",
    "plt.show()"
   ]
  },
  {
   "cell_type": "code",
   "execution_count": 167,
   "metadata": {},
   "outputs": [
    {
     "name": "stdout",
     "output_type": "stream",
     "text": [
      "              precision    recall  f1-score   support\n",
      "\n",
      "           0       0.97      1.00      0.98       887\n",
      "           1       0.00      0.00      0.00        31\n",
      "\n",
      "    accuracy                           0.97       918\n",
      "   macro avg       0.48      0.50      0.49       918\n",
      "weighted avg       0.93      0.97      0.95       918\n",
      "\n"
     ]
    },
    {
     "name": "stderr",
     "output_type": "stream",
     "text": [
      "C:\\Users\\brady\\anaconda3\\lib\\site-packages\\sklearn\\metrics\\_classification.py:1221: UndefinedMetricWarning: Precision and F-score are ill-defined and being set to 0.0 in labels with no predicted samples. Use `zero_division` parameter to control this behavior.\n",
      "  _warn_prf(average, modifier, msg_start, len(result))\n"
     ]
    }
   ],
   "source": [
    "print(classification_report(ws_true, ws_pred))"
   ]
  },
  {
   "cell_type": "code",
   "execution_count": 107,
   "metadata": {},
   "outputs": [],
   "source": [
    "team_data['RPG'] = team_data['R'] / team_data['G']"
   ]
  },
  {
   "cell_type": "code",
   "execution_count": 156,
   "metadata": {},
   "outputs": [
    {
     "data": {
      "text/plain": [
       "0.8823957425858114"
      ]
     },
     "execution_count": 156,
     "metadata": {},
     "output_type": "execute_result"
    }
   ],
   "source": [
    "linear_model_fielding = LinearRegression().fit(team_data[['R', 'ERA', 'FP']], team_data['W'])\n",
    "linear_model_fielding.score(team_data[['R', 'ERA', 'FP']], team_data['W'])"
   ]
  },
  {
   "cell_type": "code",
   "execution_count": 157,
   "metadata": {},
   "outputs": [
    {
     "data": {
      "text/plain": [
       "0.882884389476992"
      ]
     },
     "execution_count": 157,
     "metadata": {},
     "output_type": "execute_result"
    }
   ],
   "source": [
    "linear_model_fielding = LinearRegression().fit(team_data[['R', 'ERA', 'FP','Z-Score']], team_data['W'])\n",
    "linear_model_fielding.score(team_data[['R', 'ERA', 'FP', 'Z-Score']], team_data['W'])"
   ]
  },
  {
   "cell_type": "code",
   "execution_count": 158,
   "metadata": {},
   "outputs": [
    {
     "data": {
      "text/plain": [
       "array([ 9.76782975e-02, -1.59241650e+01,  4.39639047e+02,  2.84012015e-01])"
      ]
     },
     "execution_count": 158,
     "metadata": {},
     "output_type": "execute_result"
    }
   ],
   "source": [
    "linear_model_fielding.coef_"
   ]
  },
  {
   "cell_type": "code",
   "execution_count": 104,
   "metadata": {},
   "outputs": [],
   "source": [
    "linear_model_runs = LinearRegression().fit(team_data[['R', 'RA']], team_data['W'])"
   ]
  },
  {
   "cell_type": "code",
   "execution_count": 105,
   "metadata": {},
   "outputs": [
    {
     "data": {
      "text/plain": [
       "0.7698955054429655"
      ]
     },
     "execution_count": 105,
     "metadata": {},
     "output_type": "execute_result"
    }
   ],
   "source": [
    "linear_model_runs.score(team_data[['R', 'RA']], team_data['W'])"
   ]
  },
  {
   "cell_type": "code",
   "execution_count": 122,
   "metadata": {},
   "outputs": [
    {
     "data": {
      "text/plain": [
       "0.8692013270953971"
      ]
     },
     "execution_count": 122,
     "metadata": {},
     "output_type": "execute_result"
    }
   ],
   "source": [
    "linear_model_runs_2 = LinearRegression().fit(team_data[['R', 'ERA']], team_data['W'])\n",
    "linear_model_runs_2.score(team_data[['R', 'ERA']], team_data['W'])"
   ]
  },
  {
   "cell_type": "code",
   "execution_count": 180,
   "metadata": {},
   "outputs": [
    {
     "data": {
      "text/plain": [
       "array([  0.10158552, -16.5114034 ])"
      ]
     },
     "execution_count": 180,
     "metadata": {},
     "output_type": "execute_result"
    }
   ],
   "source": [
    "linear_model_runs_2.coef_"
   ]
  },
  {
   "cell_type": "code",
   "execution_count": 124,
   "metadata": {},
   "outputs": [
    {
     "data": {
      "text/plain": [
       "0.8829168139229643"
      ]
     },
     "execution_count": 124,
     "metadata": {},
     "output_type": "execute_result"
    }
   ],
   "source": [
    "linear_model_many = LinearRegression().fit(team_data[['R', 'ERA', 'FP', 'E', 'Z-Score']], team_data['W'])\n",
    "linear_model_many.score(team_data[['R', 'ERA', 'FP', 'E', 'Z-Score']], team_data['W'])"
   ]
  },
  {
   "cell_type": "code",
   "execution_count": 125,
   "metadata": {},
   "outputs": [
    {
     "data": {
      "text/plain": [
       "0.8823957425858114"
      ]
     },
     "execution_count": 125,
     "metadata": {},
     "output_type": "execute_result"
    }
   ],
   "source": [
    "#Use this model\n",
    "linear_model_fielding = LinearRegression().fit(team_data[['R', 'ERA', 'FP']], team_data['W'])\n",
    "linear_model_fielding.score(team_data[['R', 'ERA', 'FP']], team_data['W'])"
   ]
  },
  {
   "cell_type": "code",
   "execution_count": 176,
   "metadata": {},
   "outputs": [
    {
     "data": {
      "text/plain": [
       "array([ 9.76782975e-02, -1.59241650e+01,  4.39639047e+02,  2.84012015e-01])"
      ]
     },
     "execution_count": 176,
     "metadata": {},
     "output_type": "execute_result"
    }
   ],
   "source": [
    "linear_model_fielding.coef_"
   ]
  },
  {
   "cell_type": "code",
   "execution_count": 179,
   "metadata": {},
   "outputs": [
    {
     "data": {
      "text/plain": [
       "0.779192448450716"
      ]
     },
     "execution_count": 179,
     "metadata": {},
     "output_type": "execute_result"
    }
   ],
   "source": [
    "linear_model_fielding_2 = LinearRegression().fit(team_data[['R', 'ER', 'FP']], team_data['W'])\n",
    "linear_model_fielding_2.score(team_data[['R', 'ER', 'FP']], team_data['W'])"
   ]
  },
  {
   "cell_type": "code",
   "execution_count": 127,
   "metadata": {},
   "outputs": [],
   "source": [
    "X_train, X_test, w_train, w_test = train_test_split(team_data[['R', 'ERA', 'FP']], team_data['W'], test_size=.25, random_state=15)"
   ]
  },
  {
   "cell_type": "code",
   "execution_count": 128,
   "metadata": {},
   "outputs": [
    {
     "data": {
      "text/plain": [
       "LinearRegression()"
      ]
     },
     "execution_count": 128,
     "metadata": {},
     "output_type": "execute_result"
    }
   ],
   "source": [
    "linear_model_train = LinearRegression()\n",
    "linear_model_train.fit(X_train, w_train)"
   ]
  },
  {
   "cell_type": "code",
   "execution_count": 134,
   "metadata": {},
   "outputs": [
    {
     "name": "stdout",
     "output_type": "stream",
     "text": [
      "The accuracy of the model in the test set is: 11.73913043478261%\n"
     ]
    }
   ],
   "source": [
    "predict_10 = linear_model_train.predict(X_test)\n",
    "for index in range(len(predict_10)):\n",
    "    predict_10[index] = round(predict_10[index], 0)\n",
    "accuracy = predict_10 == w_test\n",
    "percent_correct = len(accuracy.loc[accuracy == True]) / len(accuracy) * 100\n",
    "print(\"The accuracy of the model in the test set is: {}%\".format(percent_correct))"
   ]
  },
  {
   "cell_type": "code",
   "execution_count": 135,
   "metadata": {},
   "outputs": [
    {
     "name": "stdout",
     "output_type": "stream",
     "text": [
      "The accuracy of the model in the training set is: 10.029069767441861%\n"
     ]
    }
   ],
   "source": [
    "predict_11 = linear_model_train.predict(X_train)\n",
    "for index in range(len(predict_11)):\n",
    "    predict_11[index] = round(predict_11[index], 0)\n",
    "accuracy_2 = predict_11 == w_train\n",
    "percent_correct_2 = len(accuracy_2.loc[accuracy_2 == True]) / len(accuracy_2) * 100\n",
    "print(\"The accuracy of the model in the training set is: {}%\".format(percent_correct_2))"
   ]
  },
  {
   "cell_type": "code",
   "execution_count": 136,
   "metadata": {},
   "outputs": [
    {
     "data": {
      "text/plain": [
       "0.07391304347826087"
      ]
     },
     "execution_count": 136,
     "metadata": {},
     "output_type": "execute_result"
    }
   ],
   "source": [
    "difference_1 = predict_10 - w_test\n",
    "difference_1.mean()"
   ]
  },
  {
   "cell_type": "code",
   "execution_count": 138,
   "metadata": {},
   "outputs": [
    {
     "data": {
      "text/plain": [
       "3.0739130434782607"
      ]
     },
     "execution_count": 138,
     "metadata": {},
     "output_type": "execute_result"
    }
   ],
   "source": [
    "difference_2 = abs(predict_10 - w_test)\n",
    "difference_2.mean()"
   ]
  },
  {
   "cell_type": "code",
   "execution_count": 140,
   "metadata": {},
   "outputs": [
    {
     "data": {
      "text/plain": [
       "<AxesSubplot:xlabel='W', ylabel='Count'>"
      ]
     },
     "execution_count": 140,
     "metadata": {},
     "output_type": "execute_result"
    },
    {
     "data": {
      "image/png": "[encoded data removed]",
      "text/plain": [
       "<Figure size 432x288 with 1 Axes>"
      ]
     },
     "metadata": {
      "needs_background": "light"
     },
     "output_type": "display_data"
    }
   ],
   "source": [
    "sns.histplot(difference_2)"
   ]
  },
  {
   "cell_type": "code",
   "execution_count": 141,
   "metadata": {},
   "outputs": [
    {
     "data": {
      "text/plain": [
       "<AxesSubplot:xlabel='W', ylabel='Count'>"
      ]
     },
     "execution_count": 141,
     "metadata": {},
     "output_type": "execute_result"
    },
    {
     "data": {
      "image/png": "[encoded data removed]",
      "text/plain": [
       "<Figure size 432x288 with 1 Axes>"
      ]
     },
     "metadata": {
      "needs_background": "light"
     },
     "output_type": "display_data"
    }
   ],
   "source": [
    "sns.histplot(difference_1)"
   ]
  },
  {
   "cell_type": "code",
   "execution_count": 163,
   "metadata": {},
   "outputs": [],
   "source": [
    "league_winners = team_data.loc[team_data['LgWin'] == 1]"
   ]
  },
  {
   "cell_type": "code",
   "execution_count": 164,
   "metadata": {},
   "outputs": [],
   "source": [
    "ws_model_league = LogisticRegression().fit(league_winners[['R', 'ERA', 'FP']], league_winners['WSWin'])"
   ]
  },
  {
   "cell_type": "code",
   "execution_count": 165,
   "metadata": {},
   "outputs": [
    {
     "data": {
      "text/plain": [
       "0.5806451612903226"
      ]
     },
     "execution_count": 165,
     "metadata": {},
     "output_type": "execute_result"
    }
   ],
   "source": [
    "ws_model_league.score(league_winners[['R', 'ERA', 'FP']], league_winners['WSWin'])"
   ]
  },
  {
   "cell_type": "code",
   "execution_count": 175,
   "metadata": {},
   "outputs": [
    {
     "data": {
      "image/png": "[encoded data removed]",
      "text/plain": [
       "<Figure size 432x288 with 2 Axes>"
      ]
     },
     "metadata": {
      "needs_background": "light"
     },
     "output_type": "display_data"
    }
   ],
   "source": [
    "ws_true_2 = league_winners['WSWin']\n",
    "ws_pred_2 = ws_model_league.predict(league_winners[['R', 'ERA', 'FP']])\n",
    "\n",
    "plot_confusion_matrix(\n",
    "    ws_model_league, \n",
    "    league_winners[['R', 'ERA', 'FP']], \n",
    "    ws_true_2, \n",
    ")\n",
    "plt.show()"
   ]
  },
  {
   "cell_type": "code",
   "execution_count": null,
   "metadata": {},
   "outputs": [],
   "source": []
  }
 ],
 "metadata": {
  "kernelspec": {
   "display_name": "Python 3",
   "language": "python",
   "name": "python3"
  },
  "language_info": {
   "codemirror_mode": {
    "name": "ipython",
    "version": 3
   },
   "file_extension": ".py",
   "mimetype": "text/x-python",
   "name": "python",
   "nbconvert_exporter": "python",
   "pygments_lexer": "ipython3",
   "version": "3.8.5"
  }
 },
 "nbformat": 4,
 "nbformat_minor": 4
}
